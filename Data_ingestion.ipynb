{
 "cells": [
  {
   "cell_type": "code",
   "execution_count": 3,
   "metadata": {},
   "outputs": [],
   "source": [
    "import os\n",
    "from crate import client\n",
    "import pandas as pd\n",
    "import numpy as np\n",
    "import matplotlib.pyplot as plt\n",
    "from datetime import datetime\n",
    "import random\n",
    "from agots.multivariate_generators.multivariate_data_generator import MultivariateDataGenerator"
   ]
  },
  {
   "cell_type": "code",
   "execution_count": 8,
   "metadata": {},
   "outputs": [],
   "source": [
    "connection = client.connect(\"http://localhost:4200/\", username=\"crate\")"
   ]
  },
  {
   "cell_type": "code",
   "execution_count": 9,
   "metadata": {},
   "outputs": [],
   "source": [
    "cursor= connection.cursor()"
   ]
  },
  {
   "cell_type": "code",
   "execution_count": 11,
   "metadata": {},
   "outputs": [],
   "source": [
    "from sqlalchemy import create_engine\n",
    "engine = create_engine('crate://localhost:4200')"
   ]
  },
  {
   "cell_type": "code",
   "execution_count": 27,
   "metadata": {},
   "outputs": [],
   "source": [
    "#file=pd.read_csv(r'data.csv', sep=',', header=0, low_memory=False)\n",
    "#file.drop('timestamps', axis='columns', inplace=True)\n",
    "#date_range=pd.date_range(start='9/4/1985', periods=len(file), freq='D')\n",
    "#file['timestamps']=pd.to_datetime(date_range)\n",
    "#file.index=file['timestamps']\n",
    "#anomalies=file.loc[file['anomaly']==True]\n",
    "#anomalies=anomalies[['value','anomaly']]\n",
    "#file=file[['value']]\n",
    "#anomalies.head()"
   ]
  },
  {
   "cell_type": "code",
   "execution_count": 26,
   "metadata": {},
   "outputs": [],
   "source": [
    "#cursor.execute(\"DELETE FROM time\")\n",
    "#file.to_sql('time', con=engine, if_exists='append', chunksize=1000000)\n",
    "#cursor.execute(\"DELETE FROM anomalies\")\n",
    "#anomalies.to_sql('anomalies', con=engine, if_exists = 'append', chunksize=100000)"
   ]
  },
  {
   "cell_type": "code",
   "execution_count": 2,
   "metadata": {},
   "outputs": [],
   "source": [
    "end_date='9/3/2020'\n",
    "\n",
    "date_rng = pd.date_range(start='9/4/1985', end=end_date, freq='D')"
   ]
  },
  {
   "cell_type": "code",
   "execution_count": 3,
   "metadata": {},
   "outputs": [],
   "source": [
    "STREAM_LENGTH = len(date_rng)\n",
    "N = 1\n",
    "K = 1\n",
    "\n",
    "dg = MultivariateDataGenerator(STREAM_LENGTH, N, K)\n",
    "df = dg.generate_baseline(initial_value_min=-2, initial_value_max=2)"
   ]
  },
  {
   "cell_type": "code",
   "execution_count": 15,
   "metadata": {
    "scrolled": false
   },
   "outputs": [],
   "source": [
    "anomaly=[]\n",
    "for i in range(random.randrange(10)):\n",
    "    x=9862+random.randrange(2922)\n",
    "    dg.add_outliers({'extreme': [{'n': 0, 'timestamps': [(x,)],'factor': 10}]})\n",
    "    anomaly.append(x)\n",
    "anomaly.sort()\n",
    "anomaly=np.array(anomaly)\n",
    "anomaly=pd.to_datetime(anomaly,origin='9/4/1985', unit='D')\n",
    "anomalies=pd.DataFrame(anomaly, columns=['timestamps'])\n",
    "anomalies['anomaly']=True\n",
    "anomalies.index=anomalies['timestamps']\n",
    "anomalies=anomalies[['anomaly']]"
   ]
  },
  {
   "cell_type": "code",
   "execution_count": 5,
   "metadata": {},
   "outputs": [
    {
     "data": {
      "text/html": [
       "<div>\n",
       "<style scoped>\n",
       "    .dataframe tbody tr th:only-of-type {\n",
       "        vertical-align: middle;\n",
       "    }\n",
       "\n",
       "    .dataframe tbody tr th {\n",
       "        vertical-align: top;\n",
       "    }\n",
       "\n",
       "    .dataframe thead th {\n",
       "        text-align: right;\n",
       "    }\n",
       "</style>\n",
       "<table border=\"1\" class=\"dataframe\">\n",
       "  <thead>\n",
       "    <tr style=\"text-align: right;\">\n",
       "      <th></th>\n",
       "      <th>value</th>\n",
       "    </tr>\n",
       "    <tr>\n",
       "      <th>timestamps</th>\n",
       "      <th></th>\n",
       "    </tr>\n",
       "  </thead>\n",
       "  <tbody>\n",
       "    <tr>\n",
       "      <th>1985-09-04</th>\n",
       "      <td>0.000000</td>\n",
       "    </tr>\n",
       "    <tr>\n",
       "      <th>1985-09-05</th>\n",
       "      <td>1.026622</td>\n",
       "    </tr>\n",
       "    <tr>\n",
       "      <th>1985-09-06</th>\n",
       "      <td>1.022128</td>\n",
       "    </tr>\n",
       "    <tr>\n",
       "      <th>1985-09-07</th>\n",
       "      <td>1.519825</td>\n",
       "    </tr>\n",
       "    <tr>\n",
       "      <th>1985-09-08</th>\n",
       "      <td>1.128708</td>\n",
       "    </tr>\n",
       "    <tr>\n",
       "      <th>1985-09-09</th>\n",
       "      <td>1.308359</td>\n",
       "    </tr>\n",
       "    <tr>\n",
       "      <th>1985-09-10</th>\n",
       "      <td>1.971159</td>\n",
       "    </tr>\n",
       "    <tr>\n",
       "      <th>1985-09-11</th>\n",
       "      <td>2.128206</td>\n",
       "    </tr>\n",
       "    <tr>\n",
       "      <th>1985-09-12</th>\n",
       "      <td>0.873162</td>\n",
       "    </tr>\n",
       "    <tr>\n",
       "      <th>1985-09-13</th>\n",
       "      <td>-0.720793</td>\n",
       "    </tr>\n",
       "  </tbody>\n",
       "</table>\n",
       "</div>"
      ],
      "text/plain": [
       "               value\n",
       "timestamps          \n",
       "1985-09-04  0.000000\n",
       "1985-09-05  1.026622\n",
       "1985-09-06  1.022128\n",
       "1985-09-07  1.519825\n",
       "1985-09-08  1.128708\n",
       "1985-09-09  1.308359\n",
       "1985-09-10  1.971159\n",
       "1985-09-11  2.128206\n",
       "1985-09-12  0.873162\n",
       "1985-09-13 -0.720793"
      ]
     },
     "execution_count": 5,
     "metadata": {},
     "output_type": "execute_result"
    }
   ],
   "source": [
    "df['date']=date_rng\n",
    "df['timestamps'] = pd.to_datetime(df['date'])\n",
    "df.drop(['date'], axis=1, inplace=True)\n",
    "df.index=df['timestamps']\n",
    "df.columns=['value', 'timestamps']\n",
    "df=df[['value']]\n",
    "df.head(10)"
   ]
  },
  {
   "cell_type": "code",
   "execution_count": 14,
   "metadata": {},
   "outputs": [],
   "source": [
    "cursor.execute(\"DELETE FROM time\")\n",
    "df.to_sql('time', con = engine, if_exists = 'append', chunksize = 100000)"
   ]
  },
  {
   "cell_type": "code",
   "execution_count": 50,
   "metadata": {},
   "outputs": [],
   "source": [
    "cursor.execute(\"DELETE FROM anomalies\")\n",
    "anomalies.to_sql('anomalies', con=engine, if_exists = 'append', chunksize=100000)"
   ]
  }
 ],
 "metadata": {
  "kernelspec": {
   "display_name": "Python 3",
   "language": "python",
   "name": "python3"
  },
  "language_info": {
   "codemirror_mode": {
    "name": "ipython",
    "version": 3
   },
   "file_extension": ".py",
   "mimetype": "text/x-python",
   "name": "python",
   "nbconvert_exporter": "python",
   "pygments_lexer": "ipython3",
   "version": "3.8.3"
  }
 },
 "nbformat": 4,
 "nbformat_minor": 4
}
